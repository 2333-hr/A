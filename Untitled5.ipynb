{
  "cells": [
    {
      "cell_type": "markdown",
      "metadata": {
        "id": "view-in-github",
        "colab_type": "text"
      },
      "source": [
        "<a href=\"https://colab.research.google.com/github/2333-hr/A/blob/main/Untitled5.ipynb\" target=\"_parent\"><img src=\"https://colab.research.google.com/assets/colab-badge.svg\" alt=\"Open In Colab\"/></a>"
      ]
    },
    {
      "cell_type": "code",
      "execution_count": null,
      "metadata": {
        "colab": {
          "base_uri": "https://localhost:8080/"
        },
        "id": "W3A0pVnimjN-",
        "outputId": "2974eea2-0f6d-4250-b855-1f2ceb02308c"
      },
      "outputs": [
        {
          "name": "stdout",
          "output_type": "stream",
          "text": [
            "Name: paho-mqtt\n",
            "Version: 1.5.1\n",
            "Summary: MQTT version 5.0/3.1.1 client class\n",
            "Home-page: http://eclipse.org/paho\n",
            "Author: Roger Light\n",
            "Author-email: roger@atchoo.org\n",
            "License: Eclipse Public License v1.0 / Eclipse Distribution License v1.0\n",
            "Location: /usr/local/lib/python3.10/dist-packages\n",
            "Requires: \n",
            "Required-by: \n"
          ]
        }
      ],
      "source": [
        "!pip show paho-mqtt\n",
        "\n"
      ]
    },
    {
      "cell_type": "code",
      "execution_count": null,
      "metadata": {
        "colab": {
          "base_uri": "https://localhost:8080/"
        },
        "id": "WyAoLM9boU8W",
        "outputId": "3e376f1a-d219-4b9c-ea7a-25124c82a057"
      },
      "outputs": [
        {
          "name": "stdout",
          "output_type": "stream",
          "text": [
            "Found existing installation: paho-mqtt 1.5.1\n",
            "Uninstalling paho-mqtt-1.5.1:\n",
            "  Successfully uninstalled paho-mqtt-1.5.1\n"
          ]
        }
      ],
      "source": [
        "!pip uninstall -y paho-mqtt"
      ]
    },
    {
      "cell_type": "code",
      "execution_count": null,
      "metadata": {
        "colab": {
          "base_uri": "https://localhost:8080/"
        },
        "id": "K_5-coN6lbzO",
        "outputId": "04a565fd-29df-4371-f00e-d9b536c70bd2"
      },
      "outputs": [
        {
          "name": "stdout",
          "output_type": "stream",
          "text": [
            "Collecting paho-mqtt==1.5.1\n",
            "  Downloading paho-mqtt-1.5.1.tar.gz (101 kB)\n",
            "\u001b[?25l     \u001b[90m━━━━━━━━━━━━━━━━━━━━━━━━━━━━━━━━━━━━━━━━\u001b[0m \u001b[32m0.0/101.8 kB\u001b[0m \u001b[31m?\u001b[0m eta \u001b[36m-:--:--\u001b[0m\r\u001b[2K     \u001b[90m━━━━━━━━━━━━━━━━━━━━━━━━━━━━━━━━━━━━━━━━\u001b[0m \u001b[32m101.8/101.8 kB\u001b[0m \u001b[31m2.9 MB/s\u001b[0m eta \u001b[36m0:00:00\u001b[0m\n",
            "\u001b[?25h  Preparing metadata (setup.py) ... \u001b[?25l\u001b[?25hdone\n",
            "Building wheels for collected packages: paho-mqtt\n",
            "  Building wheel for paho-mqtt (setup.py) ... \u001b[?25l\u001b[?25hdone\n",
            "  Created wheel for paho-mqtt: filename=paho_mqtt-1.5.1-py3-none-any.whl size=61549 sha256=6e4b01cff365e220c19f5b972645ea848ca244dcca0a4fb8b9ea0dccd1c46583\n",
            "  Stored in directory: /root/.cache/pip/wheels/b6/72/f9/44ca415a44f9cc7468fe4c59e6282938e504fadec09641fa63\n",
            "Successfully built paho-mqtt\n",
            "Installing collected packages: paho-mqtt\n",
            "Successfully installed paho-mqtt-1.5.1\n"
          ]
        }
      ],
      "source": [
        "!pip install paho-mqtt==1.5.1"
      ]
    },
    {
      "cell_type": "code",
      "execution_count": null,
      "metadata": {
        "id": "m2wKZNPC6AXD"
      },
      "outputs": [],
      "source": []
    },
    {
      "cell_type": "code",
      "execution_count": null,
      "metadata": {
        "colab": {
          "background_save": true,
          "base_uri": "https://localhost:8080/"
        },
        "id": "cB9UMO0IjnYo",
        "outputId": "3da0b95d-3e03-484f-a9bb-f6a6b18e608b"
      },
      "outputs": [
        {
          "name": "stdout",
          "output_type": "stream",
          "text": [
            "Connected to MQTT Broker!\n",
            "Publishing tidal level: -0.317\n",
            "Received message '-0.317' on topic 'student/ucfnhy0/tide' with QoS 0\n",
            "Publishing tidal level: -0.317\n",
            "Received message '-0.317' on topic 'student/ucfnhy0/tide' with QoS 0\n",
            "Publishing tidal level: -0.306\n",
            "Received message '-0.306' on topic 'student/ucfnhy0/tide' with QoS 0\n",
            "Publishing tidal level: -0.306\n",
            "Received message '-0.306' on topic 'student/ucfnhy0/tide' with QoS 0\n",
            "Publishing tidal level: -0.306\n",
            "Received message '-0.306' on topic 'student/ucfnhy0/tide' with QoS 0\n",
            "Publishing tidal level: -0.326\n",
            "Received message '-0.326' on topic 'student/ucfnhy0/tide' with QoS 0\n",
            "Publishing tidal level: -0.326\n",
            "Received message '-0.326' on topic 'student/ucfnhy0/tide' with QoS 0\n",
            "Publishing tidal level: -0.296\n",
            "Received message '-0.296' on topic 'student/ucfnhy0/tide' with QoS 0\n",
            "Publishing tidal level: -0.296\n",
            "Received message '-0.296' on topic 'student/ucfnhy0/tide' with QoS 0\n",
            "Publishing tidal level: -0.296\n",
            "Received message '-0.296' on topic 'student/ucfnhy0/tide' with QoS 0\n",
            "Publishing tidal level: -0.254\n",
            "Received message '-0.254' on topic 'student/ucfnhy0/tide' with QoS 0\n",
            "Publishing tidal level: -0.254\n",
            "Received message '-0.254' on topic 'student/ucfnhy0/tide' with QoS 0\n",
            "Publishing tidal level: -0.228\n",
            "Received message '-0.228' on topic 'student/ucfnhy0/tide' with QoS 0\n",
            "Publishing tidal level: -0.228\n",
            "Received message '-0.228' on topic 'student/ucfnhy0/tide' with QoS 0\n",
            "Publishing tidal level: -0.228\n",
            "Received message '-0.228' on topic 'student/ucfnhy0/tide' with QoS 0\n",
            "Publishing tidal level: -0.17\n",
            "Received message '-0.17' on topic 'student/ucfnhy0/tide' with QoS 0\n",
            "Publishing tidal level: -0.17\n",
            "Received message '-0.17' on topic 'student/ucfnhy0/tide' with QoS 0\n",
            "Publishing tidal level: -0.1\n",
            "Received message '-0.1' on topic 'student/ucfnhy0/tide' with QoS 0\n",
            "Publishing tidal level: -0.1\n",
            "Received message '-0.1' on topic 'student/ucfnhy0/tide' with QoS 0\n",
            "Publishing tidal level: -0.1\n",
            "Received message '-0.1' on topic 'student/ucfnhy0/tide' with QoS 0\n",
            "Publishing tidal level: 0.012\n",
            "Received message '0.012' on topic 'student/ucfnhy0/tide' with QoS 0\n",
            "Publishing tidal level: 0.012\n",
            "Received message '0.012' on topic 'student/ucfnhy0/tide' with QoS 0\n",
            "Publishing tidal level: 0.126\n",
            "Received message '0.126' on topic 'student/ucfnhy0/tide' with QoS 0\n",
            "Publishing tidal level: 0.126\n",
            "Received message '0.126' on topic 'student/ucfnhy0/tide' with QoS 0\n",
            "Publishing tidal level: 0.126\n",
            "Received message '0.126' on topic 'student/ucfnhy0/tide' with QoS 0\n",
            "Publishing tidal level: 0.253\n",
            "Received message '0.253' on topic 'student/ucfnhy0/tide' with QoS 0\n",
            "Publishing tidal level: 0.253\n",
            "Received message '0.253' on topic 'student/ucfnhy0/tide' with QoS 0\n",
            "Publishing tidal level: 0.41\n",
            "Received message '0.41' on topic 'student/ucfnhy0/tide' with QoS 0\n",
            "Publishing tidal level: 0.41\n",
            "Received message '0.41' on topic 'student/ucfnhy0/tide' with QoS 0\n",
            "Publishing tidal level: 0.41\n",
            "Received message '0.41' on topic 'student/ucfnhy0/tide' with QoS 0\n",
            "Publishing tidal level: 0.554\n",
            "Received message '0.554' on topic 'student/ucfnhy0/tide' with QoS 0\n",
            "Publishing tidal level: 0.554\n",
            "Received message '0.554' on topic 'student/ucfnhy0/tide' with QoS 0\n",
            "Publishing tidal level: 0.729\n",
            "Received message '0.729' on topic 'student/ucfnhy0/tide' with QoS 0\n",
            "Publishing tidal level: 0.729\n",
            "Received message '0.729' on topic 'student/ucfnhy0/tide' with QoS 0\n",
            "Publishing tidal level: 0.729\n",
            "Received message '0.729' on topic 'student/ucfnhy0/tide' with QoS 0\n",
            "Publishing tidal level: 0.865\n",
            "Received message '0.865' on topic 'student/ucfnhy0/tide' with QoS 0\n",
            "Publishing tidal level: 0.865\n",
            "Received message '0.865' on topic 'student/ucfnhy0/tide' with QoS 0\n",
            "Publishing tidal level: 1.066\n",
            "Received message '1.066' on topic 'student/ucfnhy0/tide' with QoS 0\n",
            "Publishing tidal level: 1.066\n",
            "Received message '1.066' on topic 'student/ucfnhy0/tide' with QoS 0\n",
            "Publishing tidal level: 1.066\n",
            "Received message '1.066' on topic 'student/ucfnhy0/tide' with QoS 0\n"
          ]
        }
      ],
      "source": [
        "import paho.mqtt.client as mqtt\n",
        "import requests\n",
        "import json\n",
        "import time\n",
        "\n",
        "# MQTT Broker 的配置信息\n",
        "mqtt_broker = \"mqtt.cetools.org\"\n",
        "mqtt_topic = \"student/ucfnhy0/tide\"\n",
        "username = \"student\"  # 替换为您的MQTT用户名\n",
        "password = \"ce2021-mqtt-forget-whale\"  # 替换为您的MQTT密码\n",
        "\n",
        "# 记录上次的潮位，用于在无法获取新数据时使用\n",
        "last_tidal_level = None\n",
        "\n",
        "# 获取Newhaven潮位监测站数据\n",
        "measure_id = \"E73139-level-tidal_level-Mean-15_min-mAOD\"\n",
        "api_url = f'http://environment.data.gov.uk/flood-monitoring/id/measures/{measure_id}/readings?latest'\n",
        "\n",
        "def on_connect(client, userdata, flags, rc):\n",
        "    if rc == 0:\n",
        "        print(\"Connected to MQTT Broker!\")\n",
        "    else:\n",
        "        print(f\"Failed to connect, return code {rc}\")\n",
        "    client.subscribe(mqtt_topic)\n",
        "\n",
        "def on_message(client, userdata, msg):\n",
        "    print(f\"Received message '{msg.payload.decode()}' on topic '{msg.topic}' with QoS {msg.qos}\")\n",
        "\n",
        "def update_and_publish_tidal_level():\n",
        "    global last_tidal_level\n",
        "    try:\n",
        "        response = requests.get(api_url)\n",
        "        if response.status_code == 200:\n",
        "            data = response.json()\n",
        "            if 'items' in data and data['items']:\n",
        "                tidal_level = data['items'][0].get('value')\n",
        "                last_tidal_level = tidal_level  # 更新最后的潮位信息\n",
        "            else:\n",
        "                print(\"No new data, using last known tidal level.\")\n",
        "        else:\n",
        "            print(f\"API request failed with status code: {response.status_code}, using last known tidal level.\")\n",
        "    except Exception as e:\n",
        "        print(f\"Error fetching tidal level: {e}\")\n",
        "\n",
        "    # 使用最后已知的潮位信息进行发布\n",
        "    if last_tidal_level is not None:\n",
        "        print(f\"Publishing tidal level: {last_tidal_level}\")\n",
        "        client.publish(mqtt_topic, payload=last_tidal_level, qos=0)\n",
        "    else:\n",
        "        print(\"No tidal level data available to publish.\")\n",
        "\n",
        "# 创建MQTT客户端实例\n",
        "client = mqtt.Client(protocol=mqtt.MQTTv311)\n",
        "client.username_pw_set(username, password)  # 设置MQTT用户名和密码\n",
        "\n",
        "# 设置回调函数\n",
        "client.on_connect = on_connect\n",
        "client.on_message = on_message\n",
        "\n",
        "# 尝试连接MQTT Broker\n",
        "try:\n",
        "    client.connect(mqtt_broker, 1884, 60)\n",
        "    client.loop_start()\n",
        "except Exception as e:\n",
        "    print(f\"Error connecting to MQTT Broker: {e}\")\n",
        "    exit(1)\n",
        "\n",
        "# 使用定时循环来定期更新潮位信息\n",
        "while True:\n",
        "    update_and_publish_tidal_level()\n",
        "    time.sleep(360)  # 每隔10分钟更新一次\n",
        "\n"
      ]
    }
  ],
  "metadata": {
    "colab": {
      "provenance": [],
      "authorship_tag": "ABX9TyPdhXpHw3I2leJhzErOLcmA",
      "include_colab_link": true
    },
    "kernelspec": {
      "display_name": "Python 3",
      "name": "python3"
    },
    "language_info": {
      "name": "python"
    }
  },
  "nbformat": 4,
  "nbformat_minor": 0
}